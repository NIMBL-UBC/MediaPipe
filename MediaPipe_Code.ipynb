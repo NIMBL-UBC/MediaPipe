{
  "nbformat": 4,
  "nbformat_minor": 0,
  "metadata": {
    "colab": {
      "provenance": [],
      "include_colab_link": true
    },
    "kernelspec": {
      "name": "python3",
      "display_name": "Python 3"
    },
    "language_info": {
      "name": "python"
    }
  },
  "cells": [
    {
      "cell_type": "markdown",
      "metadata": {
        "id": "view-in-github",
        "colab_type": "text"
      },
      "source": [
        "<a href=\"https://colab.research.google.com/github/NIMBL-UBC/MediaPipe/blob/main/MediaPipe_Code.ipynb\" target=\"_parent\"><img src=\"https://colab.research.google.com/assets/colab-badge.svg\" alt=\"Open In Colab\"/></a>"
      ]
    },
    {
      "cell_type": "code",
      "execution_count": null,
      "metadata": {
        "id": "_rDcpv3tCXE9"
      },
      "outputs": [],
      "source": [
        "#Installing MediaPipe\n",
        "\n",
        "!pip install -q mediapipe==0.10.0"
      ]
    },
    {
      "cell_type": "code",
      "source": [
        "#Import the required libraries\n",
        "\n",
        "import cv2\n",
        "import os\n",
        "import shutil\n",
        "import numpy as np\n",
        "import pandas as pd\n",
        "import matplotlib.pyplot as plt\n",
        "import mediapipe as mp\n",
        "from mediapipe.tasks import python\n",
        "from mediapipe.tasks.python import vision\n",
        "from google.colab.patches import cv2_imshow\n",
        "from tabulate import tabulate\n",
        "from scipy.interpolate import InterpolatedUnivariateSpline\n",
        "from sklearn.preprocessing import scale\n",
        "from sklearn.preprocessing import MinMaxScaler\n",
        "from shutil import rmtree\n",
        "\n",
        "mp_drawing = mp.solutions.drawing_utils\n",
        "mp_drawing_styles = mp.solutions.drawing_styles\n",
        "mp_hands = mp.solutions.hands"
      ],
      "metadata": {
        "id": "O1l6fhV6CaHA"
      },
      "execution_count": null,
      "outputs": []
    },
    {
      "cell_type": "code",
      "source": [
        "# Mount your google drive where the video files to be evaluated are stored\n",
        "# Save video files with a numeric name (without any prefix or suffix) in a drive folder named 'videos'.\n",
        "\n",
        "from google.colab import drive\n",
        "drive.mount('/content/drive')"
      ],
      "metadata": {
        "id": "s-FoZFN4CaBI"
      },
      "execution_count": null,
      "outputs": []
    },
    {
      "cell_type": "code",
      "source": [
        "def get_frames_count(video_path, folder_path):\n",
        "    # Check if the folder exists, if not create it\n",
        "    if not os.path.exists(folder_path):\n",
        "        os.makedirs(folder_path)\n",
        "\n",
        "    # Function to extract frames\n",
        "    def FrameCapture(path):\n",
        "        # where path is the path to video file located in your drive\n",
        "        vidObj = cv2.VideoCapture(path)\n",
        "        # Used as a counter variable\n",
        "        count = 0\n",
        "        # Checks whether frames were extracted\n",
        "        success = 1\n",
        "        while success:\n",
        "            # Frame is extracted\n",
        "            success, image = vidObj.read()\n",
        "            if not success:\n",
        "                break\n",
        "            # Frame is stored in the assigned folder with a specific number\n",
        "            cv2.imwrite(os.path.join(folder_path, \"frame%d.jpg\" % count), image)\n",
        "            count += 1\n",
        "        return count  # Return the value of 'count' when the function finishes\n",
        "\n",
        "    # Call the FrameCapture function to extract frames and get the value of 'count'\n",
        "    countf = FrameCapture(video_path)\n",
        "\n",
        "    # To check if the code can read files\n",
        "    testimg = \"frame1.jpg\"\n",
        "    image_path = os.path.join(folder_path, testimg)\n",
        "\n",
        "    # Check if the file exists\n",
        "    if not os.path.exists(image_path):\n",
        "        print(\"Image file does not exist\")\n",
        "    else:\n",
        "        # Read the image using cv2.imread()\n",
        "        image = cv2.imread(image_path)\n",
        "        if image is not None:\n",
        "            print('The image can be read by the code')\n",
        "        else:\n",
        "            # Unable to read the image\n",
        "            print(\"Error reading the image\")\n",
        "\n",
        "    # Check if the image was read successfully\n",
        "    if image is not None:\n",
        "        print(\"The image exists, proceed with code\")\n",
        "    else:\n",
        "        # Unable to read the image\n",
        "        print(\"Error reading the image\")\n",
        "\n",
        "    # Return the value of 'count' as the output of the function\n",
        "    return countf"
      ],
      "metadata": {
        "id": "3q4waKtIwRKX"
      },
      "execution_count": null,
      "outputs": []
    },
    {
      "cell_type": "code",
      "source": [
        "def extract_coords(folder_path, count):\n",
        "    x = []\n",
        "    y = []\n",
        "\n",
        "    for i in range(count):\n",
        "        filename = f\"/frame{i}.jpg\"\n",
        "        frameloc = folder_path + filename # Path of folder where frames have been extracted\n",
        "        image = cv2.imread(frameloc)\n",
        "        if image is not None:\n",
        "          print(\"Image file exists.\")\n",
        "        with mp_hands.Hands(\n",
        "              static_image_mode=True,\n",
        "              max_num_hands=1, #{change between 1 or 2 ONLY}\n",
        "              min_detection_confidence=0.5) as hands:\n",
        "              results = hands.process(image)\n",
        "              results = hands.process(cv2.cvtColor(image, cv2.COLOR_BGR2RGB))\n",
        "              # Print handedness and draw hand landmarks on the image.\n",
        "              print('Handedness:', results.multi_handedness) #{uncomment this line to print left or right handedness}\n",
        "              image_height, image_width, _ = image.shape\n",
        "              annotated_image = image.copy()\n",
        "              if results is not None:\n",
        "                if results.multi_hand_landmarks is not None:\n",
        "                  for hand_landmarks in results.multi_hand_landmarks:\n",
        "                  #print('hand_landmarks:', hand_landmarks) #{uncomment this line to print ALL landmarks for a single frame}\n",
        "                    print(\".\"\n",
        "                        f'Index finger tip coordinates: (',\n",
        "                        f'{hand_landmarks.landmark[mp_hands.HandLandmark.INDEX_FINGER_TIP].x * image_width}, '\n",
        "                        f'{hand_landmarks.landmark[mp_hands.HandLandmark.INDEX_FINGER_TIP].y * image_height})'\n",
        "                    )\n",
        "                  x.append(hand_landmarks.landmark[mp_hands.HandLandmark.INDEX_FINGER_TIP].x * image_width)\n",
        "                  y.append(hand_landmarks.landmark[mp_hands.HandLandmark.INDEX_FINGER_TIP].y * image_height)\n",
        "              else:\n",
        "                print(\"No hand landmarks found.\")\n",
        "                continue\n",
        "    shutil.rmtree(folder_path)\n",
        "    return x, y"
      ],
      "metadata": {
        "id": "9rfLuK30w2Qs"
      },
      "execution_count": null,
      "outputs": []
    },
    {
      "cell_type": "code",
      "source": [
        "def std_data(x, y, vn):\n",
        "    table = list(zip(x, y))\n",
        "    df = pd.DataFrame(table, columns=[f'x{vn}', f'y{vn}'])\n",
        "    existing_rows = len(df[f'x{vn}'])\n",
        "    zero_rows = 1500 - existing_rows\n",
        "    additional_zeros = pd.DataFrame({f'x{vn}': np.zeros(zero_rows),\n",
        "                                     f'y{vn}': np.zeros(zero_rows)})\n",
        "    df = pd.concat([df, additional_zeros], ignore_index=True)\n",
        "\n",
        "    time = np.linspace(1, len(x), num=len(x))\n",
        "    nintp = 1500 - len(x)\n",
        "    newx = []\n",
        "    splinex = InterpolatedUnivariateSpline(time, x, k=3)\n",
        "    newx = splinex(np.linspace(time.min(), time.max(), nintp))\n",
        "\n",
        "    newy = []\n",
        "    spliney = InterpolatedUnivariateSpline(time, y, k=3)\n",
        "    newy = spliney(np.linspace(time.min(), time.max(), nintp))\n",
        "\n",
        "    joined_x = np.concatenate((x, newx))\n",
        "    joined_y = np.concatenate((y, newy))\n",
        "\n",
        "    df[f'resx{vn}'] = joined_x\n",
        "    df[f'resy{vn}'] = joined_y\n",
        "\n",
        "    #normx = scale(joined_x, with_mean=True, with_std=True) //// use to standardize your data, or use uncommented codelines to normalize your data\n",
        "    #normy = scale(joined_y, with_mean=True, with_std=True)\n",
        "\n",
        "    scaler_x = MinMaxScaler()\n",
        "    scaler_y = MinMaxScaler()\n",
        "\n",
        "    joined_x_reshaped = joined_x.reshape(-1, 1)\n",
        "    joined_y_reshaped = joined_y.reshape(-1, 1)\n",
        "\n",
        "    normx = scaler_x.fit_transform(joined_x_reshaped)\n",
        "    normy = scaler_y.fit_transform(joined_y_reshaped)\n",
        "\n",
        "    df[f'normx{vn}'] = normx\n",
        "    df[f'normy{vn}'] = normy\n",
        "\n",
        "    return df"
      ],
      "metadata": {
        "id": "S1W_Au4Lu3Bo"
      },
      "execution_count": null,
      "outputs": []
    },
    {
      "cell_type": "code",
      "source": [
        "#Path to video location, and the location of the folder where you want the frames to be extracted\n",
        "vpath = '/content/drive/MyDrive/videos/'\n",
        "fpath = '/content/drive/MyDrive/output_frames_'\n",
        "ext = \".mp4\"\n",
        "df_final = pd.DataFrame()\n",
        "df = pd.DataFrame()\n",
        "\n",
        "# Here, list suffixes for video files, for eg, [\"1\",\"2\",\"5\"] for videos in Google drive named video\n",
        "trials = [\"1\",\"2\",\"5\"]\n",
        "\n",
        "for trial in trials:\n",
        "  video_path = os.path.join(vpath + trial + ext)\n",
        "  folder_path = os.path.join(fpath + trial)\n",
        "  vn = trial\n",
        "  countt=get_frames_count(video_path, folder_path)\n",
        "  x,y = extract_coords(folder_path,countt)\n",
        "  df = std_data(x,y,vn)\n",
        "  df_final = pd.concat([df_final, df], axis =1)\n",
        "\n",
        "print(df_final)"
      ],
      "metadata": {
        "id": "8qsquFJcC5Bk"
      },
      "execution_count": null,
      "outputs": []
    },
    {
      "cell_type": "code",
      "source": [
        "df_final.to_excel('MediaPipeData.xlsx', index=False)"
      ],
      "metadata": {
        "id": "2-rkZRx1-YCi"
      },
      "execution_count": null,
      "outputs": []
    }
  ]
}